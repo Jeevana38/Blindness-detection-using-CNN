{
 "cells": [
  {
   "cell_type": "code",
   "execution_count": 1,
   "id": "91d3e988",
   "metadata": {},
   "outputs": [],
   "source": [
    "import tensorflow as tf\n",
    "from tensorflow.keras import datasets, layers, models\n",
    "import matplotlib.pyplot as plt\n",
    "import numpy as np\n",
    "import pandas as pd\n",
    "import cv2\n",
    "from keras.preprocessing.image import img_to_array\n",
    "from tqdm import tqdm\n",
    "import os\n",
    "from tensorflow import keras\n",
    "from tensorflow.keras.models import Sequential"
   ]
  },
  {
   "cell_type": "code",
   "execution_count": 2,
   "id": "a5d9ef6b",
   "metadata": {},
   "outputs": [],
   "source": [
    "dataset = []\n",
    "labels = []\n",
    "test_dataset=[]"
   ]
  },
  {
   "cell_type": "code",
   "execution_count": 3,
   "id": "2c4fe9d7",
   "metadata": {},
   "outputs": [],
   "source": [
    "def prepare_Images(label,path):\n",
    "    img=cv2.imread(path,cv2.IMREAD_COLOR)\n",
    "    img_res=cv2.resize(img,(50,50))\n",
    "    img_array = img_to_array(img_res)\n",
    "    img_array = img_array/255\n",
    "    dataset.append(img_array)\n",
    "    labels.append(label)"
   ]
  },
  {
   "cell_type": "code",
   "execution_count": 4,
   "id": "9032d30f",
   "metadata": {},
   "outputs": [],
   "source": [
    "def prepare_test_image(path):\n",
    "    img=cv2.imread(path,cv2.IMREAD_COLOR)\n",
    "    img_res=cv2.resize(img,(50,50))\n",
    "    img_array = img_to_array(img_res)\n",
    "    img_array = img_array/255\n",
    "    test_dataset.append(img_array)\n",
    "    "
   ]
  },
  {
   "cell_type": "code",
   "execution_count": 5,
   "id": "ff63deec",
   "metadata": {},
   "outputs": [],
   "source": [
    "train_Data = pd.read_csv(\"aptos2019-blindness-detection/train.csv\")\n"
   ]
  },
  {
   "cell_type": "code",
   "execution_count": 6,
   "id": "7c3b5edc",
   "metadata": {},
   "outputs": [
    {
     "data": {
      "text/html": [
       "<div>\n",
       "<style scoped>\n",
       "    .dataframe tbody tr th:only-of-type {\n",
       "        vertical-align: middle;\n",
       "    }\n",
       "\n",
       "    .dataframe tbody tr th {\n",
       "        vertical-align: top;\n",
       "    }\n",
       "\n",
       "    .dataframe thead th {\n",
       "        text-align: right;\n",
       "    }\n",
       "</style>\n",
       "<table border=\"1\" class=\"dataframe\">\n",
       "  <thead>\n",
       "    <tr style=\"text-align: right;\">\n",
       "      <th></th>\n",
       "      <th>id_code</th>\n",
       "      <th>diagnosis</th>\n",
       "    </tr>\n",
       "  </thead>\n",
       "  <tbody>\n",
       "    <tr>\n",
       "      <th>0</th>\n",
       "      <td>000c1434d8d7</td>\n",
       "      <td>2</td>\n",
       "    </tr>\n",
       "    <tr>\n",
       "      <th>1</th>\n",
       "      <td>001639a390f0</td>\n",
       "      <td>4</td>\n",
       "    </tr>\n",
       "    <tr>\n",
       "      <th>2</th>\n",
       "      <td>0024cdab0c1e</td>\n",
       "      <td>1</td>\n",
       "    </tr>\n",
       "    <tr>\n",
       "      <th>3</th>\n",
       "      <td>002c21358ce6</td>\n",
       "      <td>0</td>\n",
       "    </tr>\n",
       "    <tr>\n",
       "      <th>4</th>\n",
       "      <td>005b95c28852</td>\n",
       "      <td>0</td>\n",
       "    </tr>\n",
       "  </tbody>\n",
       "</table>\n",
       "</div>"
      ],
      "text/plain": [
       "        id_code  diagnosis\n",
       "0  000c1434d8d7          2\n",
       "1  001639a390f0          4\n",
       "2  0024cdab0c1e          1\n",
       "3  002c21358ce6          0\n",
       "4  005b95c28852          0"
      ]
     },
     "execution_count": 6,
     "metadata": {},
     "output_type": "execute_result"
    }
   ],
   "source": [
    "train_Data.head()"
   ]
  },
  {
   "cell_type": "code",
   "execution_count": 7,
   "id": "b86ea235",
   "metadata": {},
   "outputs": [],
   "source": [
    "test_Data = pd.read_csv(\"aptos2019-blindness-detection/test.csv\")\n",
    "\n"
   ]
  },
  {
   "cell_type": "code",
   "execution_count": 8,
   "id": "b9af54b0",
   "metadata": {},
   "outputs": [
    {
     "data": {
      "text/html": [
       "<div>\n",
       "<style scoped>\n",
       "    .dataframe tbody tr th:only-of-type {\n",
       "        vertical-align: middle;\n",
       "    }\n",
       "\n",
       "    .dataframe tbody tr th {\n",
       "        vertical-align: top;\n",
       "    }\n",
       "\n",
       "    .dataframe thead th {\n",
       "        text-align: right;\n",
       "    }\n",
       "</style>\n",
       "<table border=\"1\" class=\"dataframe\">\n",
       "  <thead>\n",
       "    <tr style=\"text-align: right;\">\n",
       "      <th></th>\n",
       "      <th>id_code</th>\n",
       "    </tr>\n",
       "  </thead>\n",
       "  <tbody>\n",
       "    <tr>\n",
       "      <th>0</th>\n",
       "      <td>0005cfc8afb6</td>\n",
       "    </tr>\n",
       "    <tr>\n",
       "      <th>1</th>\n",
       "      <td>003f0afdcd15</td>\n",
       "    </tr>\n",
       "    <tr>\n",
       "      <th>2</th>\n",
       "      <td>006efc72b638</td>\n",
       "    </tr>\n",
       "    <tr>\n",
       "      <th>3</th>\n",
       "      <td>00836aaacf06</td>\n",
       "    </tr>\n",
       "    <tr>\n",
       "      <th>4</th>\n",
       "      <td>009245722fa4</td>\n",
       "    </tr>\n",
       "  </tbody>\n",
       "</table>\n",
       "</div>"
      ],
      "text/plain": [
       "        id_code\n",
       "0  0005cfc8afb6\n",
       "1  003f0afdcd15\n",
       "2  006efc72b638\n",
       "3  00836aaacf06\n",
       "4  009245722fa4"
      ]
     },
     "execution_count": 8,
     "metadata": {},
     "output_type": "execute_result"
    }
   ],
   "source": [
    "test_Data.head()"
   ]
  },
  {
   "cell_type": "code",
   "execution_count": 9,
   "id": "169e5264",
   "metadata": {},
   "outputs": [],
   "source": [
    "id_code_Data = train_Data['id_code']\n",
    "diagnosis_Data = train_Data['diagnosis']\n",
    "id_code_test_Data = test_Data['id_code']"
   ]
  },
  {
   "cell_type": "code",
   "execution_count": 10,
   "id": "945321bc",
   "metadata": {},
   "outputs": [
    {
     "name": "stderr",
     "output_type": "stream",
     "text": [
      "3662it [04:47, 12.73it/s]\n"
     ]
    }
   ],
   "source": [
    "for id_code,diagnosis in tqdm(zip(id_code_Data,diagnosis_Data)):\n",
    "    path = os.path.join('aptos2019-blindness-detection/train_images','{}.png'.format(id_code))\n",
    "    prepare_Images(diagnosis,path)"
   ]
  },
  {
   "cell_type": "code",
   "execution_count": 11,
   "id": "d1509e50",
   "metadata": {},
   "outputs": [],
   "source": [
    "for id_code_test in id_code_test_Data:\n",
    "    test_Data_path = os.path.join('aptos2019-blindness-detection/test_images','{}.png'.format(id_code_test))\n",
    "    prepare_test_image(test_Data_path)"
   ]
  },
  {
   "cell_type": "code",
   "execution_count": 12,
   "id": "a23c2e0c",
   "metadata": {},
   "outputs": [],
   "source": [
    "images = np.array(dataset)\n",
    "label_arr = np.array(labels)\n",
    "test_images = np.array(test_dataset)"
   ]
  },
  {
   "cell_type": "code",
   "execution_count": 13,
   "id": "e150e835",
   "metadata": {},
   "outputs": [
    {
     "data": {
      "text/plain": [
       "(3662, 50, 50, 3)"
      ]
     },
     "execution_count": 13,
     "metadata": {},
     "output_type": "execute_result"
    }
   ],
   "source": [
    "images.shape"
   ]
  },
  {
   "cell_type": "code",
   "execution_count": 14,
   "id": "8638678a",
   "metadata": {},
   "outputs": [
    {
     "data": {
      "text/plain": [
       "(3662,)"
      ]
     },
     "execution_count": 14,
     "metadata": {},
     "output_type": "execute_result"
    }
   ],
   "source": [
    "label_arr.shape"
   ]
  },
  {
   "cell_type": "code",
   "execution_count": 15,
   "id": "b600cf54",
   "metadata": {},
   "outputs": [
    {
     "data": {
      "text/plain": [
       "(1928, 50, 50, 3)"
      ]
     },
     "execution_count": 15,
     "metadata": {},
     "output_type": "execute_result"
    }
   ],
   "source": [
    "test_images.shape"
   ]
  },
  {
   "cell_type": "code",
   "execution_count": 16,
   "id": "d997d015",
   "metadata": {},
   "outputs": [],
   "source": [
    "from sklearn.model_selection import train_test_split\n",
    "x_train,x_validation,y_train,y_validation = train_test_split(images,label_arr,test_size=0.20,random_state=42)"
   ]
  },
  {
   "cell_type": "code",
   "execution_count": 17,
   "id": "21c0000b",
   "metadata": {},
   "outputs": [
    {
     "data": {
      "text/plain": [
       "(2929, 50, 50, 3)"
      ]
     },
     "execution_count": 17,
     "metadata": {},
     "output_type": "execute_result"
    }
   ],
   "source": [
    "x_train.shape"
   ]
  },
  {
   "cell_type": "code",
   "execution_count": 18,
   "id": "08b77b22",
   "metadata": {},
   "outputs": [
    {
     "data": {
      "text/plain": [
       "(733, 50, 50, 3)"
      ]
     },
     "execution_count": 18,
     "metadata": {},
     "output_type": "execute_result"
    }
   ],
   "source": [
    "x_validation.shape"
   ]
  },
  {
   "cell_type": "code",
   "execution_count": 19,
   "id": "36084a0a",
   "metadata": {},
   "outputs": [
    {
     "data": {
      "text/plain": [
       "(2929,)"
      ]
     },
     "execution_count": 19,
     "metadata": {},
     "output_type": "execute_result"
    }
   ],
   "source": [
    "y_train.shape"
   ]
  },
  {
   "cell_type": "code",
   "execution_count": 20,
   "id": "b8fa6630",
   "metadata": {},
   "outputs": [
    {
     "data": {
      "text/plain": [
       "(733,)"
      ]
     },
     "execution_count": 20,
     "metadata": {},
     "output_type": "execute_result"
    }
   ],
   "source": [
    "y_validation.shape"
   ]
  },
  {
   "cell_type": "code",
   "execution_count": 21,
   "id": "4028e7a0",
   "metadata": {},
   "outputs": [
    {
     "data": {
      "text/plain": [
       "array([0, 0, 0, 3, 0])"
      ]
     },
     "execution_count": 21,
     "metadata": {},
     "output_type": "execute_result"
    }
   ],
   "source": [
    "y_train[:5]"
   ]
  },
  {
   "cell_type": "code",
   "execution_count": 22,
   "id": "4a8cb17b",
   "metadata": {},
   "outputs": [],
   "source": [
    "classes = [\"No\",\"mild\",\"moderate\",\"severe\",\"proliferative\"]"
   ]
  },
  {
   "cell_type": "code",
   "execution_count": 23,
   "id": "c8686272",
   "metadata": {},
   "outputs": [],
   "source": [
    "def plot_sample(x, y, index):\n",
    "    plt.figure(figsize = (15,2))\n",
    "    plt.imshow(x[index])\n",
    "    plt.xlabel(classes[y[index]])"
   ]
  },
  {
   "cell_type": "code",
   "execution_count": 24,
   "id": "357fa3a3",
   "metadata": {
    "scrolled": false
   },
   "outputs": [
    {
     "data": {
      "image/png": "[encoded data removed]",
      "text/plain": [
       "<Figure size 1080x144 with 1 Axes>"
      ]
     },
     "metadata": {
      "needs_background": "light"
     },
     "output_type": "display_data"
    }
   ],
   "source": [
    "plot_sample(x_train, y_train, 0)"
   ]
  },
  {
   "cell_type": "code",
   "execution_count": null,
   "id": "2fb39b83",
   "metadata": {},
   "outputs": [],
   "source": [
    "#x_train = x_train / 255.0\n",
    "#x_test = x_test / 255.0"
   ]
  },
  {
   "cell_type": "code",
   "execution_count": null,
   "id": "67bca953",
   "metadata": {},
   "outputs": [],
   "source": [
    "'''data_augmentation = keras.Sequential(\n",
    "  [\n",
    "    layers.experimental.preprocessing.RandomFlip(\"horizontal\", \n",
    "                                                 input_shape=(50, \n",
    "                                                              50,\n",
    "                                                              3)),\n",
    "    layers.experimental.preprocessing.RandomRotation(0.1),\n",
    "    layers.experimental.preprocessing.RandomZoom(0.1),\n",
    "  ]\n",
    ")'''"
   ]
  },
  {
   "cell_type": "code",
   "execution_count": 25,
   "id": "d5ab25a5",
   "metadata": {},
   "outputs": [
    {
     "name": "stdout",
     "output_type": "stream",
     "text": [
      "Epoch 1/30\n",
      "92/92 [==============================] - 5s 52ms/step - loss: 0.9912 - accuracy: 0.6340 - val_loss: 0.8439 - val_accuracy: 0.7135\n",
      "Epoch 2/30\n",
      "92/92 [==============================] - 4s 47ms/step - loss: 0.8009 - accuracy: 0.7030 - val_loss: 0.7879 - val_accuracy: 0.7190\n",
      "Epoch 3/30\n",
      "92/92 [==============================] - 5s 51ms/step - loss: 0.7574 - accuracy: 0.7214 - val_loss: 0.8046 - val_accuracy: 0.7176\n",
      "Epoch 4/30\n",
      "92/92 [==============================] - 4s 48ms/step - loss: 0.7237 - accuracy: 0.7347 - val_loss: 0.7459 - val_accuracy: 0.7340\n",
      "Epoch 5/30\n",
      "92/92 [==============================] - 4s 47ms/step - loss: 0.7052 - accuracy: 0.7381 - val_loss: 0.7608 - val_accuracy: 0.7408\n",
      "Epoch 6/30\n",
      "92/92 [==============================] - 5s 52ms/step - loss: 0.6967 - accuracy: 0.7443 - val_loss: 0.7554 - val_accuracy: 0.7299\n",
      "Epoch 7/30\n",
      "92/92 [==============================] - 5s 51ms/step - loss: 0.6782 - accuracy: 0.7491 - val_loss: 0.7198 - val_accuracy: 0.7326\n",
      "Epoch 8/30\n",
      "92/92 [==============================] - 5s 53ms/step - loss: 0.6585 - accuracy: 0.7525 - val_loss: 0.7101 - val_accuracy: 0.7408\n",
      "Epoch 9/30\n",
      "92/92 [==============================] - 5s 53ms/step - loss: 0.6567 - accuracy: 0.7634 - val_loss: 0.7075 - val_accuracy: 0.7422\n",
      "Epoch 10/30\n",
      "92/92 [==============================] - 5s 52ms/step - loss: 0.6244 - accuracy: 0.7682 - val_loss: 0.7090 - val_accuracy: 0.7449\n",
      "Epoch 11/30\n",
      "92/92 [==============================] - 5s 52ms/step - loss: 0.6106 - accuracy: 0.7757 - val_loss: 0.7179 - val_accuracy: 0.7490\n",
      "Epoch 12/30\n",
      "92/92 [==============================] - 5s 52ms/step - loss: 0.5907 - accuracy: 0.7822 - val_loss: 0.7383 - val_accuracy: 0.7476\n",
      "Epoch 13/30\n",
      "92/92 [==============================] - 5s 54ms/step - loss: 0.5783 - accuracy: 0.7856 - val_loss: 0.7064 - val_accuracy: 0.7531\n",
      "Epoch 14/30\n",
      "92/92 [==============================] - 5s 52ms/step - loss: 0.5499 - accuracy: 0.7914 - val_loss: 0.7003 - val_accuracy: 0.7599\n",
      "Epoch 15/30\n",
      "92/92 [==============================] - 5s 52ms/step - loss: 0.5246 - accuracy: 0.8033 - val_loss: 0.7293 - val_accuracy: 0.7394\n",
      "Epoch 16/30\n",
      "92/92 [==============================] - 5s 55ms/step - loss: 0.4964 - accuracy: 0.8057 - val_loss: 0.7996 - val_accuracy: 0.7422\n",
      "Epoch 17/30\n",
      "92/92 [==============================] - 5s 53ms/step - loss: 0.4766 - accuracy: 0.8204 - val_loss: 0.7932 - val_accuracy: 0.7094\n",
      "Epoch 18/30\n",
      "92/92 [==============================] - 5s 53ms/step - loss: 0.4489 - accuracy: 0.8225 - val_loss: 0.7906 - val_accuracy: 0.7244\n",
      "Epoch 19/30\n",
      "92/92 [==============================] - 5s 52ms/step - loss: 0.4096 - accuracy: 0.8440 - val_loss: 0.8179 - val_accuracy: 0.7258\n",
      "Epoch 20/30\n",
      "92/92 [==============================] - 5s 53ms/step - loss: 0.3774 - accuracy: 0.8552 - val_loss: 0.7980 - val_accuracy: 0.7353\n",
      "Epoch 21/30\n",
      "92/92 [==============================] - 5s 53ms/step - loss: 0.3531 - accuracy: 0.8730 - val_loss: 0.8801 - val_accuracy: 0.7217\n",
      "Epoch 22/30\n",
      "92/92 [==============================] - 5s 53ms/step - loss: 0.3223 - accuracy: 0.8853 - val_loss: 0.9605 - val_accuracy: 0.7312\n",
      "Epoch 23/30\n",
      "92/92 [==============================] - 5s 58ms/step - loss: 0.2822 - accuracy: 0.8904 - val_loss: 0.9582 - val_accuracy: 0.7394\n",
      "Epoch 24/30\n",
      "92/92 [==============================] - 5s 52ms/step - loss: 0.2606 - accuracy: 0.9034 - val_loss: 0.9685 - val_accuracy: 0.7217\n",
      "Epoch 25/30\n",
      "92/92 [==============================] - 5s 54ms/step - loss: 0.2259 - accuracy: 0.9201 - val_loss: 1.0899 - val_accuracy: 0.7162\n",
      "Epoch 26/30\n",
      "92/92 [==============================] - 5s 59ms/step - loss: 0.2022 - accuracy: 0.9269 - val_loss: 1.0435 - val_accuracy: 0.7217\n",
      "Epoch 27/30\n",
      "92/92 [==============================] - 6s 60ms/step - loss: 0.1719 - accuracy: 0.9403 - val_loss: 1.1392 - val_accuracy: 0.7203\n",
      "Epoch 28/30\n",
      "92/92 [==============================] - 5s 56ms/step - loss: 0.1622 - accuracy: 0.9461 - val_loss: 1.3133 - val_accuracy: 0.7258\n",
      "Epoch 29/30\n",
      "92/92 [==============================] - 5s 57ms/step - loss: 0.1552 - accuracy: 0.9502 - val_loss: 1.2773 - val_accuracy: 0.7258\n",
      "Epoch 30/30\n",
      "92/92 [==============================] - 5s 55ms/step - loss: 0.1342 - accuracy: 0.9546 - val_loss: 1.3380 - val_accuracy: 0.7258\n"
     ]
    }
   ],
   "source": [
    "'''cnn = models.Sequential([\n",
    "    layers.Conv2D(filters=32, kernel_size=(3, 3), activation='relu', input_shape=(50, 50, 3)),\n",
    "    layers.MaxPooling2D((2, 2)),\n",
    "    \n",
    "    layers.Conv2D(filters=64, kernel_size=(3, 3), activation='relu'),\n",
    "    layers.MaxPooling2D((2, 2)),\n",
    "    \n",
    "    layers.Flatten(),\n",
    "    layers.Dense(64, activation='relu'),\n",
    "    layers.Dense(10, activation='softmax')\n",
    "])\n",
    "cnn.compile(optimizer='adam',\n",
    "              loss='sparse_categorical_crossentropy',\n",
    "              metrics=['accuracy'])\n",
    "history1 = cnn.fit(x_train, y_train, batch_size=64,epochs=30,validation_data=(x_validation,y_validation))\n",
    "              '''\n",
    "num_classes = 5\n",
    "\n",
    "model = Sequential([\n",
    "  layers.Conv2D(16, 3, padding='same', activation='relu'),\n",
    "  layers.MaxPooling2D(),\n",
    "  layers.Conv2D(32, 3, padding='same', activation='relu'),\n",
    "  layers.MaxPooling2D(),\n",
    "  layers.Conv2D(64, 3, padding='same', activation='relu'),\n",
    "  layers.MaxPooling2D(),\n",
    "  layers.Flatten(),\n",
    "  layers.Dense(128, activation='relu'),\n",
    "  layers.Dense(num_classes)\n",
    "])\n",
    "\n",
    "model.compile(optimizer='adam',\n",
    "              loss=tf.keras.losses.SparseCategoricalCrossentropy(from_logits=True),\n",
    "              metrics=['accuracy'])\n",
    "              \n",
    "history1 = model.fit(x_train, y_train, batch_size=32,epochs=30,validation_data=(x_validation,y_validation))\n",
    "#history1=model.fit(x_train,y_train,epochs=30,batch_size=32)"
   ]
  },
  {
   "cell_type": "code",
   "execution_count": 26,
   "id": "c78764cd",
   "metadata": {},
   "outputs": [
    {
     "name": "stdout",
     "output_type": "stream",
     "text": [
      "23/23 [==============================] - 0s 11ms/step - loss: 1.3380 - accuracy: 0.7258\n"
     ]
    },
    {
     "data": {
      "text/plain": [
       "[1.3379966020584106, 0.725784420967102]"
      ]
     },
     "execution_count": 26,
     "metadata": {},
     "output_type": "execute_result"
    }
   ],
   "source": [
    "model.evaluate(x_validation,y_validation)"
   ]
  },
  {
   "cell_type": "code",
   "execution_count": 27,
   "id": "593f37d3",
   "metadata": {},
   "outputs": [],
   "source": [
    "y_pred = model.predict(x_validation)\n"
   ]
  },
  {
   "cell_type": "code",
   "execution_count": 28,
   "id": "15d0ea10",
   "metadata": {},
   "outputs": [
    {
     "data": {
      "text/plain": [
       "array([[ 15.885863  ,   0.47975847, -13.854062  ,  -1.4199772 ,\n",
       "         -4.2586617 ],\n",
       "       [  6.3374777 ,  -4.0654054 ,   9.525668  , -10.89474   ,\n",
       "          2.3582366 ],\n",
       "       [  4.9994073 ,  -5.0905323 ,  -1.5629793 ,   0.6018785 ,\n",
       "          3.092346  ],\n",
       "       [ -2.4606063 ,   3.3797245 ,   4.983767  ,   1.0675197 ,\n",
       "          2.4896681 ],\n",
       "       [  9.697857  ,   1.2940162 ,   0.83685315,  -7.171608  ,\n",
       "         -1.3056467 ]], dtype=float32)"
      ]
     },
     "execution_count": 28,
     "metadata": {},
     "output_type": "execute_result"
    }
   ],
   "source": [
    "y_pred[:5]"
   ]
  },
  {
   "cell_type": "code",
   "execution_count": 29,
   "id": "e7eb5c3a",
   "metadata": {},
   "outputs": [],
   "source": [
    "y_classes = [np.argmax(element) for element in y_pred]\n"
   ]
  },
  {
   "cell_type": "code",
   "execution_count": 30,
   "id": "0c1337a3",
   "metadata": {},
   "outputs": [
    {
     "data": {
      "text/plain": [
       "[0, 2, 0, 2, 0, 0, 0, 2, 2, 4]"
      ]
     },
     "execution_count": 30,
     "metadata": {},
     "output_type": "execute_result"
    }
   ],
   "source": [
    "y_classes[:10]"
   ]
  },
  {
   "cell_type": "code",
   "execution_count": 31,
   "id": "d9b431e4",
   "metadata": {},
   "outputs": [
    {
     "data": {
      "text/plain": [
       "array([0, 1, 3, 4, 0, 0, 0, 4, 2, 2])"
      ]
     },
     "execution_count": 31,
     "metadata": {},
     "output_type": "execute_result"
    }
   ],
   "source": [
    "y_validation[:10]"
   ]
  },
  {
   "cell_type": "code",
   "execution_count": 32,
   "id": "af72647d",
   "metadata": {},
   "outputs": [
    {
     "data": {
      "image/png": "[encoded data removed]",
      "text/plain": [
       "<Figure size 1080x144 with 1 Axes>"
      ]
     },
     "metadata": {
      "needs_background": "light"
     },
     "output_type": "display_data"
    }
   ],
   "source": [
    "plot_sample(x_validation, y_validation,3)"
   ]
  },
  {
   "cell_type": "code",
   "execution_count": 33,
   "id": "e7ad4300",
   "metadata": {},
   "outputs": [
    {
     "data": {
      "text/plain": [
       "'moderate'"
      ]
     },
     "execution_count": 33,
     "metadata": {},
     "output_type": "execute_result"
    }
   ],
   "source": [
    "classes[y_classes[3]]"
   ]
  },
  {
   "cell_type": "code",
   "execution_count": null,
   "id": "d44aff7e",
   "metadata": {},
   "outputs": [],
   "source": [
    "classes[y_classes[0]]"
   ]
  },
  {
   "cell_type": "code",
   "execution_count": null,
   "id": "a0922f4f",
   "metadata": {},
   "outputs": [],
   "source": [
    "classes[y_classes[1]]"
   ]
  },
  {
   "cell_type": "code",
   "execution_count": 34,
   "id": "eac605a6",
   "metadata": {},
   "outputs": [],
   "source": [
    "y_test_predict =  model.predict(test_images)\n",
    "y_test_classes = [np.argmax(element) for element in y_test_predict]"
   ]
  },
  {
   "cell_type": "code",
   "execution_count": null,
   "id": "de356786",
   "metadata": {},
   "outputs": [],
   "source": [
    "y_test_classes[60:70]"
   ]
  },
  {
   "cell_type": "code",
   "execution_count": 36,
   "id": "f33bef3b",
   "metadata": {},
   "outputs": [
    {
     "data": {
      "text/plain": [
       "'moderate'"
      ]
     },
     "execution_count": 36,
     "metadata": {},
     "output_type": "execute_result"
    },
    {
     "data": {
      "image/png": "[encoded data removed]",
      "text/plain": [
       "<Figure size 1080x144 with 1 Axes>"
      ]
     },
     "metadata": {
      "needs_background": "light"
     },
     "output_type": "display_data"
    }
   ],
   "source": [
    "plt.figure(figsize=(15,2))\n",
    "plt.imshow(test_images[1])\n",
    "classes[y_test_classes[1]]"
   ]
  },
  {
   "cell_type": "code",
   "execution_count": 37,
   "id": "6bb7aa67",
   "metadata": {},
   "outputs": [
    {
     "name": "stdout",
     "output_type": "stream",
     "text": [
      "Classification Report: \n",
      "               precision    recall  f1-score   support\n",
      "\n",
      "           0       0.92      0.95      0.93       351\n",
      "           1       0.53      0.43      0.47        68\n",
      "           2       0.59      0.73      0.65       213\n",
      "           3       0.27      0.11      0.16        36\n",
      "           4       0.30      0.17      0.22        65\n",
      "\n",
      "    accuracy                           0.73       733\n",
      "   macro avg       0.52      0.48      0.49       733\n",
      "weighted avg       0.70      0.73      0.71       733\n",
      "\n"
     ]
    }
   ],
   "source": [
    "from sklearn.metrics import confusion_matrix , classification_report\n",
    "import numpy as np\n",
    "y_pred = model.predict(x_validation)\n",
    "y_pred_classes = [np.argmax(element) for element in y_pred]\n",
    "\n",
    "print(\"Classification Report: \\n\", classification_report(y_validation, y_pred_classes))"
   ]
  },
  {
   "cell_type": "code",
   "execution_count": 38,
   "id": "69a60729",
   "metadata": {},
   "outputs": [
    {
     "name": "stdout",
     "output_type": "stream",
     "text": [
      "[[332   4  15   0   0]\n",
      " [  6  29  30   2   1]\n",
      " [ 15  14 156   7  21]\n",
      " [  2   3  23   4   4]\n",
      " [  7   5  40   2  11]]\n"
     ]
    }
   ],
   "source": [
    "conMat = confusion_matrix(y_validation,y_pred_classes)\n",
    "print(conMat)"
   ]
  },
  {
   "cell_type": "code",
   "execution_count": 39,
   "id": "407793f8",
   "metadata": {},
   "outputs": [
    {
     "data": {
      "image/png": "[encoded data removed]",
      "text/plain": [
       "<Figure size 432x288 with 1 Axes>"
      ]
     },
     "metadata": {
      "needs_background": "light"
     },
     "output_type": "display_data"
    }
   ],
   "source": [
    "loss_train = history1.history['loss']\n",
    "loss_val = history1.history['val_loss']\n",
    "epochs = range(1,31)\n",
    "plt.plot(epochs, loss_train, 'g', label='Training loss')\n",
    "plt.plot(epochs, loss_val, 'b', label='validation loss')\n",
    "plt.title('Training and Validation loss')\n",
    "plt.xlabel('Epochs')\n",
    "plt.ylabel('Loss')\n",
    "plt.legend()\n",
    "plt.show()"
   ]
  },
  {
   "cell_type": "code",
   "execution_count": 40,
   "id": "6bdaca5c",
   "metadata": {},
   "outputs": [
    {
     "data": {
      "image/png": "[encoded data removed]",
      "text/plain": [
       "<Figure size 432x288 with 1 Axes>"
      ]
     },
     "metadata": {
      "needs_background": "light"
     },
     "output_type": "display_data"
    }
   ],
   "source": [
    "loss_train = history1.history['accuracy']\n",
    "loss_val = history1.history['val_accuracy']\n",
    "epochs = range(1,31)\n",
    "plt.plot(epochs, loss_train, 'g', label='Training accuracy')\n",
    "plt.plot(epochs, loss_val, 'b', label='validation accuracy')\n",
    "plt.title('Training and Validation accuracy')\n",
    "plt.xlabel('Epochs')\n",
    "plt.ylabel('Accuracy')\n",
    "plt.legend()\n",
    "plt.show()"
   ]
  },
  {
   "cell_type": "code",
   "execution_count": null,
   "id": "b136ced2",
   "metadata": {},
   "outputs": [],
   "source": [
    "'''\n",
    "from tensorflow.keras.models import Sequential\n",
    "from tensorflow.keras.optimizers import Adam\n",
    "from tensorflow.python.keras.layers import Dense, Flatten\n",
    "\n",
    "resnet_model = Sequential()\n",
    "\n",
    "pretrained_model= tf.keras.applications.ResNet50(include_top=False,\n",
    "                   input_shape=(50,50,3),\n",
    "                   pooling='avg',classes=5,\n",
    "                   weights='imagenet')\n",
    "for layer in pretrained_model.layers:\n",
    "        layer.trainable=False\n",
    "\n",
    "resnet_model.add(pretrained_model)\n",
    "resnet_model.add(Flatten())\n",
    "resnet_model.add(Dense(512, activation='relu'))\n",
    "resnet_model.add(Dense(10, activation='softmax'))\n",
    "\n",
    "resnet_model.compile(optimizer=Adam(lr=0.001),loss='sparse_categorical_crossentropy',metrics=['accuracy'])\n",
    "#resnet_model.compile(optimizer=Adam,loss='sparse_categorical_crossentropy',metrics=['accuracy'])\n",
    "\n",
    "resnet_model.summary()\n",
    "\n",
    "history2 = resnet_model.fit(x_train, y_train, batch_size=64,epochs=10,validation_data=(x_validation,y_validation))\n",
    "'''"
   ]
  },
  {
   "cell_type": "code",
   "execution_count": null,
   "id": "91da600e",
   "metadata": {},
   "outputs": [],
   "source": [
    "'''from keras import layers\n",
    "from keras import models\n",
    "\n",
    "\n",
    "model = models.Sequential()\n",
    "model.add(layers.Conv2D(32,(3,3), activation='relu', input_shape = (50,50,3)))\n",
    "model.add(layers.MaxPooling2D((2,2)))\n",
    "model.add(layers.Conv2D(64,(3,3), activation='relu'))\n",
    "model.add(layers.MaxPooling2D((2,2)))\n",
    "model.add(layers.Conv2D(64,(3,3), activation='relu'))\n",
    "model.add(layers.Flatten())\n",
    "model.add(layers.Dense(100,activation = 'relu'))\n",
    "model.add(layers.Dense(10, activation= 'softmax')) \n",
    "\n",
    "model.summary()\n",
    "\n",
    "model.compile(optimizer = 'sgd',\n",
    "             loss = 'sparse_categorical_crossentropy',\n",
    "             metrics = ['accuracy'])\n",
    "model.fit(x_train, y_train, epochs=15, batch_size = 64,validation_data=(x_validation,y_validation))'''\n"
   ]
  },
  {
   "cell_type": "code",
   "execution_count": null,
   "id": "d65ad888",
   "metadata": {},
   "outputs": [],
   "source": [
    "'''model3 = tf.keras.models.Sequential(\n",
    "    [\n",
    "     tf.keras.layers.Flatten(),\n",
    "     tf.keras.layers.Dense(\n",
    "         128,\n",
    "         activation = 'relu'\n",
    "     ),\n",
    "     tf.keras.layers.Dense(\n",
    "         64,\n",
    "         activation = 'relu'\n",
    "     ),\n",
    "     tf.keras.layers.Dense(\n",
    "         32,\n",
    "         activation = 'relu'\n",
    "     ),\n",
    "     tf.keras.layers.Dense(\n",
    "         10,\n",
    "         activation = 'softmax'\n",
    "     )\n",
    "    ]\n",
    ")\n",
    "\n",
    "model3.compile(\n",
    "    loss = 'sparse_categorical_crossentropy',\n",
    "    optimizer = 'adam',#sgd\n",
    "    metrics = ['accuracy']\n",
    ")\n",
    "\n",
    "my_model = model3.fit(\n",
    "    x_train,\n",
    "    y_train,\n",
    "    epochs = 15\n",
    ")'''"
   ]
  },
  {
   "cell_type": "code",
   "execution_count": null,
   "id": "59b38f9f",
   "metadata": {},
   "outputs": [],
   "source": [
    "'''data_augmentation = keras.Sequential(\n",
    "  [\n",
    "    layers.experimental.preprocessing.RandomFlip(\"horizontal\", \n",
    "                                                 input_shape=(50, \n",
    "                                                              50,\n",
    "                                                              3)),\n",
    "    layers.experimental.preprocessing.RandomRotation(0.1),\n",
    "    layers.experimental.preprocessing.RandomZoom(0.1),\n",
    "  ]\n",
    ")'''"
   ]
  },
  {
   "cell_type": "code",
   "execution_count": null,
   "id": "0aa1b442",
   "metadata": {},
   "outputs": [],
   "source": [
    "'''augmentation = tf.keras.Sequential([\n",
    "    layers.RandomFlip(mode='horizontal_and_vertical'),\n",
    "    layers.RandomRotation(factor=0.2),\n",
    "    layers.RandomZoom(height_factor=0.2, width_factor=0.2),\n",
    "    layers.RandomTranslation(height_factor=0.2, width_factor=0.2)\n",
    "])'''"
   ]
  },
  {
   "cell_type": "code",
   "execution_count": null,
   "id": "7a630a07",
   "metadata": {},
   "outputs": [],
   "source": [
    "'''num_classes = 5\n",
    "\n",
    "model5 = Sequential([\n",
    " augmentation,\n",
    "  layers.Conv2D(16, 3, padding='same', activation='relu'),\n",
    "  layers.MaxPooling2D(),\n",
    "  layers.Conv2D(32, 3, padding='same', activation='relu'),\n",
    "  layers.MaxPooling2D(),\n",
    "  layers.Conv2D(64, 3, padding='same', activation='relu'),\n",
    "  layers.MaxPooling2D(),\n",
    "  layers.Flatten(),\n",
    "  layers.Dense(128, activation='relu'),\n",
    "  layers.Dense(num_classes)\n",
    "])\n",
    "\n",
    "model5.compile(optimizer='adam',\n",
    "              loss=tf.keras.losses.SparseCategoricalCrossentropy(from_logits=True),\n",
    "              metrics=['accuracy'])\n",
    "              \n",
    "model5.fit(x_train, y_train, epochs=30)   '''"
   ]
  },
  {
   "cell_type": "code",
   "execution_count": null,
   "id": "a65d9d8f",
   "metadata": {},
   "outputs": [],
   "source": []
  }
 ],
 "metadata": {
  "kernelspec": {
   "display_name": "Python 3 (ipykernel)",
   "language": "python",
   "name": "python3"
  },
  "language_info": {
   "codemirror_mode": {
    "name": "ipython",
    "version": 3
   },
   "file_extension": ".py",
   "mimetype": "text/x-python",
   "name": "python",
   "nbconvert_exporter": "python",
   "pygments_lexer": "ipython3",
   "version": "3.9.7"
  }
 },
 "nbformat": 4,
 "nbformat_minor": 5
}
